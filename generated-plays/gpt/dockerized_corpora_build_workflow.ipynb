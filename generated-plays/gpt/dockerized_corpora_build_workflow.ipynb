{
 "cells": [
  {
   "cell_type": "markdown",
   "id": "2cdf994c",
   "metadata": {
    "id": "2cdf994c"
   },
   "source": [
    "# Not Really Stable Workflow for DraCor on Docker\n",
    "\n",
    "Cf. relevant notebooks:\n",
    "\n",
    "* https://github.com/dracor-org/dracor-notebooks/blob/docker/docker/local-dracor-with-docker.ipynb\n",
    "* https://github.com/dracor-org/vebidracor/blob/main/vebidracor-workflow.ipynb\n"
   ]
  },
  {
   "cell_type": "markdown",
   "id": "c0c12c8b",
   "metadata": {
    "id": "c0c12c8b"
   },
   "source": [
    "```\n",
    "services:\n",
    "  api:\n",
    "    image: ingoboerner/dracor-api:v0.86.3_local\n",
    "    ports:\n",
    "      - \"8080:8080\"\n",
    "    depends_on:\n",
    "      - metrics\n",
    "      - fuseki\n",
    "  metrics:\n",
    "    image: ingoboerner/dracor-metrics:v1.2.1\n",
    "    ports:\n",
    "      - \"8030:8030\"\n",
    "  frontend:\n",
    "    image: ingoboerner/dracor-frontend:v1.4.3_local\n",
    "    ports:\n",
    "      - \"8088:80\"\n",
    "    depends_on:\n",
    "      - api\n",
    "  fuseki:\n",
    "    image: \"stain/jena-fuseki\"\n",
    "    environment:\n",
    "      - ADMIN_PASSWORD=qwerty\n",
    "      - FUSEKI_DATASET_1=dracor\n",
    "    ports:\n",
    "      - \"3030:3030\"\n",
    "    expose:\n",
    "      - \"3030\"\n",
    "```"
   ]
  },
  {
   "cell_type": "markdown",
   "id": "c0d5cb5d",
   "metadata": {
    "id": "c0d5cb5d"
   },
   "source": [
    "Run\n",
    "`docker-compose -f docker-compose.empty.yml up` in cmd prompt or similar\n",
    "\n",
    "Go to http://localhost:8088/\n",
    "\n",
    "Should be an empty DraCor instance."
   ]
  },
  {
   "cell_type": "markdown",
   "id": "ab83be5a",
   "metadata": {
    "id": "ab83be5a"
   },
   "source": [
    "Functions to use the API:\n",
    "Helper function, might become obsolete if pydracor is ready."
   ]
  },
  {
   "cell_type": "code",
   "execution_count": 1,
   "id": "41d3296c",
   "metadata": {
    "colab": {
     "base_uri": "https://localhost:8080/"
    },
    "id": "41d3296c",
    "outputId": "6977783d-bb5b-40f4-8a88-dfd3d050f484"
   },
   "outputs": [
    {
     "name": "stdout",
     "output_type": "stream",
     "text": [
      "Requirement already satisfied: requests in c:\\users\\elena giovannini\\anaconda3\\lib\\site-packages (2.28.2)Note: you may need to restart the kernel to use updated packages.\n",
      "\n",
      "Requirement already satisfied: urllib3<1.27,>=1.21.1 in c:\\users\\elena giovannini\\anaconda3\\lib\\site-packages (from requests) (1.26.14)\n",
      "Requirement already satisfied: charset-normalizer<4,>=2 in c:\\users\\elena giovannini\\anaconda3\\lib\\site-packages (from requests) (2.0.4)\n",
      "Requirement already satisfied: idna<4,>=2.5 in c:\\users\\elena giovannini\\anaconda3\\lib\\site-packages (from requests) (3.4)\n",
      "Requirement already satisfied: certifi>=2017.4.17 in c:\\users\\elena giovannini\\anaconda3\\lib\\site-packages (from requests) (2022.12.7)\n"
     ]
    }
   ],
   "source": [
    "%pip install requests"
   ]
  },
  {
   "cell_type": "code",
   "execution_count": 2,
   "id": "3f189615",
   "metadata": {
    "id": "3f189615"
   },
   "outputs": [],
   "source": [
    "# import libraries json and requests\n",
    "import json\n",
    "import requests\n",
    "\n",
    "#corpusname:str -> []\n",
    "def get(**kwargs):\n",
    "    #corpusname=corpusname\n",
    "    #playname=playname\n",
    "    #apibase=\"https://dracor.org/api/\"\n",
    "    #method=method\n",
    "    #parse_json: True\n",
    "\n",
    "    #could set different apibase, e.g. https://staging.dracor.org/api/ [not recommended, pls use the production server]\n",
    "    if \"apibase\" in kwargs:\n",
    "        if kwargs[\"apibase\"].endswith(\"/\"):\n",
    "            apibase = kwargs[\"apibase\"]\n",
    "        else:\n",
    "            apibase = kwargs[\"apibase\"] + \"/\"\n",
    "    else:\n",
    "        #use local API per default\n",
    "        apibase = \"http://localhost:8088/api/\"\n",
    "    if \"corpusname\" in kwargs and \"playname\" in kwargs:\n",
    "        # used for /api/corpora/{corpusname}/play/{playname}/\n",
    "        if \"method\" in kwargs:\n",
    "            request_url = apibase + \"corpora/\" + kwargs[\"corpusname\"] + \"/play/\" + kwargs[\"playname\"] + \"/\" + kwargs[\"method\"]\n",
    "        else:\n",
    "            request_url = apibase + \"corpora/\" + kwargs[\"corpusname\"] + \"/play/\" + kwargs[\"playname\"]\n",
    "    elif \"corpusname\" in kwargs and not \"playname\" in kwargs:\n",
    "        if \"method\" in kwargs:\n",
    "            request_url = apibase + \"corpora/\" + kwargs[\"corpusname\"] + \"/\" + kwargs[\"method\"]\n",
    "        else:\n",
    "            request_url = apibase + \"corpora/\" + kwargs[\"corpusname\"]\n",
    "    elif \"method\" in kwargs and not \"corpusname\" in kwargs and not \"playname\" in kwargs:\n",
    "            request_url = apibase + kwargs[\"method\"]\n",
    "\n",
    "    else:\n",
    "        #nothing set\n",
    "        request = request_url = apibase + \"info\"\n",
    "\n",
    "    #send the response\n",
    "    r = requests.get(request_url)\n",
    "    if r.status_code == 200:\n",
    "        #success!\n",
    "        if \"parse_json\" in kwargs:\n",
    "            if kwargs[\"parse_json\"] == True:\n",
    "                json_data = json.loads(r.text)\n",
    "                return json_data\n",
    "            else:\n",
    "                return r.text\n",
    "        else:\n",
    "            return r.text\n",
    "    else:\n",
    "        raise Exception(\"Request was not successful. Server returned status code: \"  + str(r.status_code))"
   ]
  },
  {
   "cell_type": "markdown",
   "id": "afa85ea7",
   "metadata": {
    "id": "afa85ea7"
   },
   "source": [
    "# 1. Setup an empty corpus in local instance"
   ]
  },
  {
   "cell_type": "code",
   "execution_count": 4,
   "id": "16ae6c70",
   "metadata": {
    "id": "16ae6c70"
   },
   "outputs": [
    {
     "name": "stdout",
     "output_type": "stream",
     "text": [
      "Success! http://localhost:8088/ai\n"
     ]
    }
   ],
   "source": [
    "new_corpus_name = \"ai\"\n",
    "new_corpus_title = \"AI Drama Corpus\"\n",
    "\n",
    "#needed for authorization\n",
    "from requests.auth import HTTPBasicAuth\n",
    "\n",
    "#Username of the local instance\n",
    "usr = \"admin\"\n",
    "#Password of the admin user\n",
    "pwd = \"rXEVM26cN66ARa97864BG7h5\"   # this changes every time, you find it in the cmd prompt chronology \n",
    "\n",
    "#construct the payload\n",
    "metadata = {\n",
    "  \"name\": new_corpus_name,\n",
    "  \"title\": new_corpus_title\n",
    "}\n",
    "\n",
    "#url of the corpora endpoint\n",
    "corpora_endpoint_url = \"http://localhost:8088/api/corpora\"\n",
    "\n",
    "#send the POST request using library requests\n",
    "r = requests.post(corpora_endpoint_url, json = metadata, auth=HTTPBasicAuth(usr, pwd))\n",
    "\n",
    "if r.status_code == 200:\n",
    "    print(\"Success!\" + \" http://localhost:8088/\" + new_corpus_name)\n",
    "else:\n",
    "    print(r.status_code)"
   ]
  },
  {
   "cell_type": "code",
   "execution_count": null,
   "id": "ac5b0196",
   "metadata": {
    "id": "ac5b0196",
    "outputId": "fd9dc67d-316b-4006-d5d6-512022e082cb"
   },
   "outputs": [],
   "source": [
    "#check if successful\n",
    "get(method=\"corpora\", parse_json=True)"
   ]
  },
  {
   "cell_type": "markdown",
   "id": "RKVk3_6CHOZf",
   "metadata": {
    "id": "RKVk3_6CHOZf"
   },
   "source": [
    "# Load plays from my own repository"
   ]
  },
  {
   "cell_type": "markdown",
   "id": "s6e7hbu2y11z",
   "metadata": {
    "id": "s6e7hbu2y11z"
   },
   "source": [
    "### Get URLS"
   ]
  },
  {
   "cell_type": "code",
   "execution_count": null,
   "id": "a130af86",
   "metadata": {},
   "outputs": [],
   "source": [
    "'''\n",
    "import PyGithub\n",
    "\n",
    "g = github.Github()\n",
    "repo = g.get_repo(\"lucagiovannini7/artificial-dramas/ezdrama_format/gpt/xmls\")\n",
    "\n",
    "contents = repo.get_contents(\"\")\n",
    "list_urls = []\n",
    "\n",
    "for file_content in contents:\n",
    "    if file_content.type == \"dir\":\n",
    "        contents.extend(repo.get_contents(file_content.path))\n",
    "    else:\n",
    "        list_urls.append(file_content)\n",
    "\n",
    "for url in list_urls:\n",
    "    print(url.name)\n",
    "'''"
   ]
  },
  {
   "cell_type": "code",
   "execution_count": 5,
   "id": "n38MnRObOofN",
   "metadata": {
    "id": "n38MnRObOofN"
   },
   "outputs": [],
   "source": [
    "# execute this cell to load the urls to the plays\n",
    "\n",
    "clean_urls = ['https://raw.githubusercontent.com/lucagiovannini7/artificial-dramas/main/ezdrama_format/gpt/xmls/GPT35-French-10_indented.xml',\n",
    "'https://raw.githubusercontent.com/lucagiovannini7/artificial-dramas/main/ezdrama_format/gpt/xmls/GPT35-French-1_indented.xml',\n",
    "'https://raw.githubusercontent.com/lucagiovannini7/artificial-dramas/main/ezdrama_format/gpt/xmls/GPT35-French-2_indented.xml',\n",
    "'https://raw.githubusercontent.com/lucagiovannini7/artificial-dramas/main/ezdrama_format/gpt/xmls/GPT35-French-3_indented.xml',\n",
    "'https://raw.githubusercontent.com/lucagiovannini7/artificial-dramas/main/ezdrama_format/gpt/xmls/GPT35-French-4_indented.xml',\n",
    "'https://raw.githubusercontent.com/lucagiovannini7/artificial-dramas/main/ezdrama_format/gpt/xmls/GPT35-French-5_indented.xml',\n",
    "'https://raw.githubusercontent.com/lucagiovannini7/artificial-dramas/main/ezdrama_format/gpt/xmls/GPT35-French-6_indented.xml',\n",
    "'https://raw.githubusercontent.com/lucagiovannini7/artificial-dramas/main/ezdrama_format/gpt/xmls/GPT35-French-7_indented.xml',\n",
    "'https://raw.githubusercontent.com/lucagiovannini7/artificial-dramas/main/ezdrama_format/gpt/xmls/GPT35-French-8_indented.xml',\n",
    "'https://raw.githubusercontent.com/lucagiovannini7/artificial-dramas/main/ezdrama_format/gpt/xmls/GPT35-French-9_indented.xml',\n",
    "'https://raw.githubusercontent.com/lucagiovannini7/artificial-dramas/main/ezdrama_format/gpt/xmls/GPT35-German-10_indented.xml',\n",
    "'https://raw.githubusercontent.com/lucagiovannini7/artificial-dramas/main/ezdrama_format/gpt/xmls/GPT35-German-1_indented.xml',\n",
    "'https://raw.githubusercontent.com/lucagiovannini7/artificial-dramas/main/ezdrama_format/gpt/xmls/GPT35-German-2_indented.xml',\n",
    "'https://raw.githubusercontent.com/lucagiovannini7/artificial-dramas/main/ezdrama_format/gpt/xmls/GPT35-German-3_indented.xml',\n",
    "'https://raw.githubusercontent.com/lucagiovannini7/artificial-dramas/main/ezdrama_format/gpt/xmls/GPT35-German-4_indented.xml',\n",
    "'https://raw.githubusercontent.com/lucagiovannini7/artificial-dramas/main/ezdrama_format/gpt/xmls/GPT35-German-5_indented.xml',\n",
    "'https://raw.githubusercontent.com/lucagiovannini7/artificial-dramas/main/ezdrama_format/gpt/xmls/GPT35-German-6_indented.xml',\n",
    "'https://raw.githubusercontent.com/lucagiovannini7/artificial-dramas/main/ezdrama_format/gpt/xmls/GPT35-German-7_indented.xml',\n",
    "'https://raw.githubusercontent.com/lucagiovannini7/artificial-dramas/main/ezdrama_format/gpt/xmls/GPT35-German-8_indented.xml',\n",
    "'https://raw.githubusercontent.com/lucagiovannini7/artificial-dramas/main/ezdrama_format/gpt/xmls/GPT35-German-9_indented.xml',\n",
    "'https://raw.githubusercontent.com/lucagiovannini7/artificial-dramas/main/ezdrama_format/gpt/xmls/GPT35-Russian-10_indented.xml',\n",
    "'https://raw.githubusercontent.com/lucagiovannini7/artificial-dramas/main/ezdrama_format/gpt/xmls/GPT35-Russian-1_indented.xml',\n",
    "'https://raw.githubusercontent.com/lucagiovannini7/artificial-dramas/main/ezdrama_format/gpt/xmls/GPT35-Russian-2_indented.xml',\n",
    "'https://raw.githubusercontent.com/lucagiovannini7/artificial-dramas/main/ezdrama_format/gpt/xmls/GPT35-Russian-3_indented.xml',\n",
    "'https://raw.githubusercontent.com/lucagiovannini7/artificial-dramas/main/ezdrama_format/gpt/xmls/GPT35-Russian-4_indented.xml',\n",
    "'https://raw.githubusercontent.com/lucagiovannini7/artificial-dramas/main/ezdrama_format/gpt/xmls/GPT35-Russian-5_indented.xml',\n",
    "'https://raw.githubusercontent.com/lucagiovannini7/artificial-dramas/main/ezdrama_format/gpt/xmls/GPT35-Russian-6_indented.xml',\n",
    "'https://raw.githubusercontent.com/lucagiovannini7/artificial-dramas/main/ezdrama_format/gpt/xmls/GPT35-Russian-7_indented.xml',\n",
    "'https://raw.githubusercontent.com/lucagiovannini7/artificial-dramas/main/ezdrama_format/gpt/xmls/GPT35-Russian-8_indented.xml',\n",
    "'https://raw.githubusercontent.com/lucagiovannini7/artificial-dramas/main/ezdrama_format/gpt/xmls/GPT35-Russian-9_indented.xml']"
   ]
  },
  {
   "cell_type": "markdown",
   "id": "gyCEvkmtzBIk",
   "metadata": {
    "id": "gyCEvkmtzBIk"
   },
   "source": [
    "### Iterate over list of URLs to add them to the corpus"
   ]
  },
  {
   "cell_type": "code",
   "execution_count": 8,
   "id": "YcKSusqxkp5g",
   "metadata": {
    "colab": {
     "base_uri": "https://localhost:8080/",
     "height": 35
    },
    "id": "YcKSusqxkp5g",
    "outputId": "d25224e3-33df-493f-b1ea-6179facde584"
   },
   "outputs": [
    {
     "name": "stdout",
     "output_type": "stream",
     "text": [
      "GPT3.5-French-10\n",
      "GPT3.5-French-1\n",
      "GPT3.5-French-2\n"
     ]
    }
   ],
   "source": [
    "# testing 'playname' construction\n",
    "for url in clean_urls[:3]:\n",
    "    r = requests.get(url)\n",
    "    #get only the text from the response and encode it in UTF-8 (important!)\n",
    "    tei = r.text.encode('utf-8')\n",
    "    playname = url[96:].split(\".xml\")[0]\n",
    "    playname = playname.replace('/','')\n",
    "    playname = playname.replace('35','3.5')\n",
    "    playname = playname.replace('_indented','')\n",
    "    print(playname)"
   ]
  },
  {
   "cell_type": "code",
   "execution_count": null,
   "id": "7fbcc9a8",
   "metadata": {},
   "outputs": [],
   "source": [
    "test_urls = ['https://raw.githubusercontent.com/lucagiovannini7/baroque-networks/main/dracor-xmls/de-dracor/gryphius-cardenio-und-celinde.xml']"
   ]
  },
  {
   "cell_type": "code",
   "execution_count": 10,
   "id": "v5DAFRerI284",
   "metadata": {
    "id": "v5DAFRerI284"
   },
   "outputs": [
    {
     "name": "stdout",
     "output_type": "stream",
     "text": [
      "Processing GPT3.5-French-10\n",
      "Loading http://localhost:8088/api/corpora/ai/play/GPT3.5-French-10/tei . Processed:  1 /30\n",
      "Processing GPT3.5-French-1\n",
      "Loading http://localhost:8088/api/corpora/ai/play/GPT3.5-French-1/tei . Processed:  2 /30\n",
      "Processing GPT3.5-French-2\n",
      "Loading http://localhost:8088/api/corpora/ai/play/GPT3.5-French-2/tei . Processed:  3 /30\n",
      "Processing GPT3.5-French-3\n",
      "Loading http://localhost:8088/api/corpora/ai/play/GPT3.5-French-3/tei . Processed:  4 /30\n",
      "Processing GPT3.5-French-4\n",
      "Loading http://localhost:8088/api/corpora/ai/play/GPT3.5-French-4/tei . Processed:  5 /30\n",
      "Processing GPT3.5-French-5\n",
      "Loading http://localhost:8088/api/corpora/ai/play/GPT3.5-French-5/tei . Processed:  6 /30\n",
      "Processing GPT3.5-French-6\n",
      "Loading http://localhost:8088/api/corpora/ai/play/GPT3.5-French-6/tei . Processed:  7 /30\n",
      "Processing GPT3.5-French-7\n",
      "Loading http://localhost:8088/api/corpora/ai/play/GPT3.5-French-7/tei . Processed:  8 /30\n",
      "Processing GPT3.5-French-8\n",
      "Loading http://localhost:8088/api/corpora/ai/play/GPT3.5-French-8/tei . Processed:  9 /30\n",
      "Processing GPT3.5-French-9\n",
      "Loading http://localhost:8088/api/corpora/ai/play/GPT3.5-French-9/tei . Processed:  10 /30\n",
      "Processing GPT3.5-German-10\n",
      "Loading http://localhost:8088/api/corpora/ai/play/GPT3.5-German-10/tei . Processed:  11 /30\n",
      "Processing GPT3.5-German-1\n",
      "Loading http://localhost:8088/api/corpora/ai/play/GPT3.5-German-1/tei . Processed:  12 /30\n",
      "Processing GPT3.5-German-2\n",
      "Loading http://localhost:8088/api/corpora/ai/play/GPT3.5-German-2/tei . Processed:  13 /30\n",
      "Processing GPT3.5-German-3\n",
      "Loading http://localhost:8088/api/corpora/ai/play/GPT3.5-German-3/tei . Processed:  14 /30\n",
      "Processing GPT3.5-German-4\n",
      "Loading http://localhost:8088/api/corpora/ai/play/GPT3.5-German-4/tei . Processed:  15 /30\n",
      "Processing GPT3.5-German-5\n",
      "Loading http://localhost:8088/api/corpora/ai/play/GPT3.5-German-5/tei . Processed:  16 /30\n",
      "Processing GPT3.5-German-6\n",
      "Loading http://localhost:8088/api/corpora/ai/play/GPT3.5-German-6/tei . Processed:  17 /30\n",
      "Processing GPT3.5-German-7\n",
      "Loading http://localhost:8088/api/corpora/ai/play/GPT3.5-German-7/tei . Processed:  18 /30\n",
      "Processing GPT3.5-German-8\n",
      "Loading http://localhost:8088/api/corpora/ai/play/GPT3.5-German-8/tei . Processed:  19 /30\n",
      "Processing GPT3.5-German-9\n",
      "Loading http://localhost:8088/api/corpora/ai/play/GPT3.5-German-9/tei . Processed:  20 /30\n",
      "Processing GPT3.5-Russian-10\n",
      "Loading http://localhost:8088/api/corpora/ai/play/GPT3.5-Russian-10/tei . Processed:  21 /30\n",
      "Processing GPT3.5-Russian-1\n",
      "Loading http://localhost:8088/api/corpora/ai/play/GPT3.5-Russian-1/tei . Processed:  22 /30\n",
      "Processing GPT3.5-Russian-2\n",
      "Loading http://localhost:8088/api/corpora/ai/play/GPT3.5-Russian-2/tei . Processed:  23 /30\n",
      "Processing GPT3.5-Russian-3\n",
      "Loading http://localhost:8088/api/corpora/ai/play/GPT3.5-Russian-3/tei . Processed:  24 /30\n",
      "Processing GPT3.5-Russian-4\n",
      "Loading http://localhost:8088/api/corpora/ai/play/GPT3.5-Russian-4/tei . Processed:  25 /30\n",
      "Processing GPT3.5-Russian-5\n",
      "Loading http://localhost:8088/api/corpora/ai/play/GPT3.5-Russian-5/tei . Processed:  26 /30\n",
      "Processing GPT3.5-Russian-6\n",
      "Loading http://localhost:8088/api/corpora/ai/play/GPT3.5-Russian-6/tei . Processed:  27 /30\n",
      "Processing GPT3.5-Russian-7\n",
      "Loading http://localhost:8088/api/corpora/ai/play/GPT3.5-Russian-7/tei . Processed:  28 /30\n",
      "Processing GPT3.5-Russian-8\n",
      "Loading http://localhost:8088/api/corpora/ai/play/GPT3.5-Russian-8/tei . Processed:  29 /30\n",
      "Processing GPT3.5-Russian-9\n",
      "Loading http://localhost:8088/api/corpora/ai/play/GPT3.5-Russian-9/tei . Processed:  30 /30\n"
     ]
    }
   ],
   "source": [
    "# load all plays\n",
    "counter = 1\n",
    "for url in clean_urls:\n",
    "    r = requests.get(url)\n",
    "    #get only the text from the response and encode it in UTF-8 (important!)\n",
    "    tei = r.text.encode('utf-8')\n",
    "    playname = url[96:].split(\".xml\")[0]\n",
    "    playname = playname.replace('/','')\n",
    "    playname = playname.replace('35','3.5')\n",
    "    playname = playname.replace('_indented','')\n",
    "    playname = playname.replace('%2B','-')    \n",
    "    print(\"Processing\", playname)\n",
    "    #construct the URL to use in the PUT request:\n",
    "    put_request_url = \"http://localhost:8088/api/corpora/\" + \"ai\" + \"/play/\" + playname + \"/tei\"\n",
    "    print(\"Loading\", put_request_url, \". Processed: \", counter, \"/30\")\n",
    "    counter += 1\n",
    "    headers = {'Content-Type': 'application/xml'}\n",
    "    #loads play\n",
    "    r = requests.put(put_request_url, data=tei, headers=headers, auth=HTTPBasicAuth(usr, pwd))"
   ]
  }
 ],
 "metadata": {
  "accelerator": "GPU",
  "colab": {
   "provenance": []
  },
  "gpuClass": "standard",
  "kernelspec": {
   "display_name": "Python 3 (ipykernel)",
   "language": "python",
   "name": "python3"
  },
  "language_info": {
   "codemirror_mode": {
    "name": "ipython",
    "version": 3
   },
   "file_extension": ".py",
   "mimetype": "text/x-python",
   "name": "python",
   "nbconvert_exporter": "python",
   "pygments_lexer": "ipython3",
   "version": "3.10.9"
  }
 },
 "nbformat": 4,
 "nbformat_minor": 5
}
